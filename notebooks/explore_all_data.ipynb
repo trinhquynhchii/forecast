{
 "cells": [
  {
   "cell_type": "markdown",
   "metadata": {},
   "source": [
    "# Import data"
   ]
  },
  {
   "cell_type": "code",
   "execution_count": 1,
   "metadata": {
    "pycharm": {
     "is_executing": false
    }
   },
   "outputs": [],
   "source": [
    "import pandas as pd\n",
    "import numpy as np\n",
    "import math\n",
    "import os\n",
    "import sys\n",
    "\n",
    "\n",
    "nb_dir = os.path.split(os.getcwd())[0]\n",
    "if nb_dir not in sys.path:\n",
    "    sys.path.append(nb_dir)"
   ]
  },
  {
   "cell_type": "code",
   "execution_count": 2,
   "metadata": {
    "pycharm": {
     "is_executing": false
    }
   },
   "outputs": [
    {
     "traceback": [
      "\u001b[0;31m---------------------------------------------------------------------------\u001b[0m",
      "\u001b[0;31mModuleNotFoundError\u001b[0m                       Traceback (most recent call last)",
      "\u001b[0;32m<ipython-input-2-0a6dab733d4f>\u001b[0m in \u001b[0;36m<module>\u001b[0;34m\u001b[0m\n\u001b[0;32m----> 1\u001b[0;31m \u001b[0;32mfrom\u001b[0m \u001b[0mtime_series\u001b[0m\u001b[0;34m.\u001b[0m\u001b[0mhdfs_handle\u001b[0m \u001b[0;32mimport\u001b[0m \u001b[0mHDFSHandler\u001b[0m\u001b[0;34m\u001b[0m\u001b[0;34m\u001b[0m\u001b[0m\n\u001b[0m\u001b[1;32m      2\u001b[0m \u001b[0;34m\u001b[0m\u001b[0m\n",
      "\u001b[0;32m~/github/time-series/time_series/hdfs_handle.py\u001b[0m in \u001b[0;36m<module>\u001b[0;34m\u001b[0m\n\u001b[0;32m----> 1\u001b[0;31m \u001b[0;32mimport\u001b[0m \u001b[0mdatalabframework\u001b[0m \u001b[0;32mas\u001b[0m \u001b[0mdlf\u001b[0m\u001b[0;34m\u001b[0m\u001b[0;34m\u001b[0m\u001b[0m\n\u001b[0m\u001b[1;32m      2\u001b[0m \u001b[0;32mimport\u001b[0m \u001b[0mpyspark\u001b[0m\u001b[0;34m.\u001b[0m\u001b[0msql\u001b[0m\u001b[0;34m.\u001b[0m\u001b[0mfunctions\u001b[0m \u001b[0;32mas\u001b[0m \u001b[0mF\u001b[0m\u001b[0;34m\u001b[0m\u001b[0;34m\u001b[0m\u001b[0m\n\u001b[1;32m      3\u001b[0m \u001b[0;32mimport\u001b[0m \u001b[0mpyspark\u001b[0m\u001b[0;34m.\u001b[0m\u001b[0msql\u001b[0m\u001b[0;34m.\u001b[0m\u001b[0mtypes\u001b[0m \u001b[0;32mas\u001b[0m \u001b[0mT\u001b[0m\u001b[0;34m\u001b[0m\u001b[0;34m\u001b[0m\u001b[0m\n\u001b[1;32m      4\u001b[0m \u001b[0;34m\u001b[0m\u001b[0m\n\u001b[1;32m      5\u001b[0m \u001b[0;32mfrom\u001b[0m \u001b[0;34m.\u001b[0m\u001b[0mutils\u001b[0m \u001b[0;32mimport\u001b[0m \u001b[0msplit_to_region\u001b[0m\u001b[0;34m,\u001b[0m \u001b[0mpreprocess_data\u001b[0m\u001b[0;34m\u001b[0m\u001b[0;34m\u001b[0m\u001b[0m\n",
      "\u001b[0;31mModuleNotFoundError\u001b[0m: No module named 'datalabframework'"
     ],
     "ename": "ModuleNotFoundError",
     "evalue": "No module named 'datalabframework'",
     "output_type": "error"
    }
   ],
   "source": [
    "from time_series.hdfs_handle import HDFSHandler"
   ]
  },
  {
   "cell_type": "code",
   "execution_count": null,
   "metadata": {
    "pycharm": {
     "is_executing": false
    }
   },
   "outputs": [],
   "source": [
    "hdfs_handler = HDFSHandler()"
   ]
  },
  {
   "cell_type": "code",
   "execution_count": null,
   "metadata": {
    "pycharm": {
     "is_executing": false
    }
   },
   "outputs": [],
   "source": [
    "start_date = pd.to_datetime('2019-10-01')\n",
    "end_date = pd.to_datetime('2019-10-31') + pd.to_timedelta(1, unit='D') \n",
    "\n",
    "data_df = hdfs_handler.get_transaction_data(date=(start_date, end_date))"
   ]
  },
  {
   "cell_type": "code",
   "execution_count": null,
   "metadata": {
    "pycharm": {
     "is_executing": false
    }
   },
   "outputs": [],
   "source": [
    "excel_data = pd.read_excel(os.path.join('../data', 'vnshop_order.xlsx'), sheet_name=0)"
   ]
  },
  {
   "cell_type": "code",
   "execution_count": null,
   "metadata": {
    "pycharm": {
     "is_executing": false
    }
   },
   "outputs": [],
   "source": [
    "df = pd.concat([data_df, excel_data])\n",
    "df.head()"
   ]
  },
  {
   "cell_type": "markdown",
   "metadata": {},
   "source": [
    "\n",
    "# Sorting by date and indexing"
   ]
  },
  {
   "cell_type": "code",
   "execution_count": null,
   "metadata": {
    "pycharm": {
     "is_executing": false
    }
   },
   "outputs": [],
   "source": [
    "df_sortdate = df.sort_values(by=['created_at'])"
   ]
  },
  {
   "cell_type": "code",
   "execution_count": null,
   "metadata": {
    "pycharm": {
     "is_executing": false
    }
   },
   "outputs": [],
   "source": [
    "df_sortdate = df_sortdate.set_index('created_at')[\"2018-11\":]"
   ]
  },
  {
   "cell_type": "code",
   "execution_count": null,
   "metadata": {
    "pycharm": {
     "is_executing": false
    }
   },
   "outputs": [],
   "source": [
    "df_sortdate.head()"
   ]
  },
  {
   "cell_type": "markdown",
   "metadata": {},
   "source": [
    "# Provide week, month, year, weekday "
   ]
  },
  {
   "cell_type": "code",
   "execution_count": null,
   "metadata": {
    "pycharm": {
     "is_executing": false
    }
   },
   "outputs": [],
   "source": [
    "df_sortdate['week'] = df_sortdate.index.week\n",
    "df_sortdate['month'] = df_sortdate.index.month\n",
    "df_sortdate['year'] = df_sortdate.index.year\n",
    "df_sortdate['weekday'] = df_sortdate.index.weekday_name"
   ]
  },
  {
   "cell_type": "code",
   "execution_count": null,
   "metadata": {
    "pycharm": {
     "is_executing": false
    }
   },
   "outputs": [],
   "source": [
    "df_sortdate.head()"
   ]
  },
  {
   "cell_type": "markdown",
   "metadata": {},
   "source": [
    "# Visualize data by warehouse"
   ]
  },
  {
   "cell_type": "code",
   "execution_count": null,
   "metadata": {
    "pycharm": {
     "is_executing": false
    }
   },
   "outputs": [],
   "source": [
    "%matplotlib inline\n",
    "import matplotlib.pyplot as plt\n",
    "import seaborn as sns"
   ]
  },
  {
   "cell_type": "code",
   "execution_count": null,
   "metadata": {
    "pycharm": {
     "is_executing": false
    }
   },
   "outputs": [],
   "source": [
    "def sort_by_warehouse(df, warehouse):\n",
    "    df_warehouse = df_sortdate[df_sortdate['Kho'] == warehouse]\n",
    "    dfbymonth = df_warehouse.resample('M')['quantity'].sum()\n",
    "    dfbyweek = df_warehouse.resample('W')['quantity'].sum()\n",
    "    dfbyday = df_warehouse.resample('D')['quantity'].sum()\n",
    "    dfbyweekday = df_warehouse.loc[:, ['weekday', 'quantity']]\n",
    "    \n",
    "    return df_warehouse, dfbymonth, dfbyweek, dfbyday, dfbyweekday"
   ]
  },
  {
   "cell_type": "code",
   "execution_count": null,
   "metadata": {
    "pycharm": {
     "is_executing": false
    }
   },
   "outputs": [],
   "source": [
    "df_khohanoi, dfbymonth_khohanoi, dfbyweek_khohanoi, dfbyday_khohanoi, dfbyweekday_khohanoi = sort_by_warehouse(df_sortdate, 'Kho Hà Nội')\n",
    "df_khodanang, dfbymonth_khodanang, dfbyweek_khodanang, dfbyday_khodanang, dfbyweekday_khodanang = sort_by_warehouse(df_sortdate, 'Kho Đà Nẵng')\n",
    "df_khobinhduong, dfbymonth_khobinhduong, dfbyweek_khobinhduong, dfbyday_khobinhduong, dfbyweekday_khobinhduong = sort_by_warehouse(df_sortdate, 'Kho Bình Dương')"
   ]
  },
  {
   "cell_type": "code",
   "execution_count": null,
   "metadata": {
    "pycharm": {
     "is_executing": false
    }
   },
   "outputs": [],
   "source": [
    "def plot_line(dfs, title=None, xaxis=None, yaxis=None, figsize=(20, 6)):\n",
    "    sns.set(rc={'figure.figsize':figsize})\n",
    "    \n",
    "    color = ['b', 'g', 'purple']\n",
    "    style = ['-', ':', '--']\n",
    "        \n",
    "    for i, df in enumerate(dfs):\n",
    "        df.plot(linewidth=2, color=color[i], style=style[i])\n",
    "\n",
    "    plt.legend(['Hà Nội','Đà Nẵng','Bình Dương'])\n",
    "    plt.title(title)\n",
    "    plt.xlabel(xaxis, size = 15)\n",
    "    plt.ylabel(yaxis, size = 15)"
   ]
  },
  {
   "cell_type": "code",
   "execution_count": null,
   "metadata": {
    "pycharm": {
     "is_executing": false
    }
   },
   "outputs": [],
   "source": [
    "def plot_line_with_subplot(dfs, title=None, figsize=(20, 14)):\n",
    "    fig, axes = plt.subplots(len(dfs), 1, figsize=figsize, dpi=80)\n",
    "    color = ['b', 'g', 'purple']\n",
    "    style = ['-', ':', '--']\n",
    "        \n",
    "    for i, df in enumerate(dfs):\n",
    "        df.plot(linewidth=2, color=color[i], style=style[i], ax=axes[i])\n",
    "\n",
    "    axes[0].set_title(title + ' - Hanoi', fontsize=18)\n",
    "    axes[1].set_title(title + ' - Danang', fontsize=18)\n",
    "    axes[2].set_title(title + ' - Binhduong', fontsize=18)\n",
    "    \n",
    "    axes[0].set_xlabel('')\n",
    "    axes[1].set_xlabel('')\n",
    "    axes[2].set_xlabel('')\n"
   ]
  },
  {
   "cell_type": "code",
   "execution_count": null,
   "metadata": {
    "pycharm": {
     "is_executing": false
    }
   },
   "outputs": [],
   "source": [
    "def plot_boxplot(x, y, dfs, title=None, figsize=(20, 14), order=None, vertical_orient=False, show_outlier=True):\n",
    "    fig, axes = plt.subplots(len(dfs), 1, figsize=figsize, dpi=80)\n",
    "    \n",
    "    flierprops = dict(markerfacecolor='0.75', markersize=5,\n",
    "                      linestyle='none')\n",
    "    \n",
    "    if not vertical_orient:\n",
    "        vertical_orient = 'v'\n",
    "    else:\n",
    "        vertical_orient = 'h'\n",
    "        x, y = y, x\n",
    "    \n",
    "    for i, df in enumerate(dfs):\n",
    "        sns.boxplot(x=x, y=y, data=df, ax=axes[i], order=order, orient=vertical_orient, showfliers=show_outlier)\n",
    "\n",
    "    # Set Title\n",
    "    axes[0].set_title(title + ' - Hanoi', fontsize=18)\n",
    "    axes[1].set_title(title + ' - Danang', fontsize=18)\n",
    "    axes[2].set_title(title + ' - Binhduong', fontsize=18)\n",
    "\n",
    "    axes[0].set_xlabel('')\n",
    "    axes[1].set_xlabel('')\n",
    "    axes[2].set_xlabel('')\n"
   ]
  },
  {
   "cell_type": "code",
   "execution_count": null,
   "metadata": {
    "pycharm": {
     "is_executing": false
    }
   },
   "outputs": [],
   "source": [
    "def plot_histogram(dfs, title=None, figsize=(20, 14)):\n",
    "    fig, axes = plt.subplots(len(dfs), 1, figsize=figsize, dpi=80)\n",
    "    color = ['b', 'g', 'purple']\n",
    "    \n",
    "    for i, df in enumerate(dfs):\n",
    "        df.plot.hist(bins=20, linewidth=2, color=color[i], ax=axes[i])\n",
    "\n",
    "    axes[0].set_title(title + ' - Hanoi', fontsize=18)\n",
    "    axes[1].set_title(title + ' - Danang', fontsize=18)\n",
    "    axes[2].set_title(title + ' - Binhduong', fontsize=18)\n",
    "    \n",
    "    axes[0].set_xlabel('')\n",
    "    axes[1].set_xlabel('')\n",
    "    axes[2].set_xlabel('')"
   ]
  },
  {
   "cell_type": "markdown",
   "metadata": {},
   "source": [
    "## Visualize data by weekday"
   ]
  },
  {
   "cell_type": "code",
   "execution_count": 3,
   "metadata": {
    "pycharm": {
     "is_executing": false
    }
   },
   "outputs": [],
   "source": [
    "def sum_weekday_df(dfs):\n",
    "    dffs = []\n",
    "    for df in dfs:\n",
    "        dff = df.groupby('weekday').sum().reindex(['Monday', 'Tuesday', 'Wednesday', 'Thursday', 'Friday', 'Saturday', 'Sunday'])\n",
    "        dffs.append(dff['quantity'])\n",
    "    return dffs"
   ]
  },
  {
   "cell_type": "code",
   "execution_count": 4,
   "metadata": {
    "pycharm": {
     "is_executing": false
    }
   },
   "outputs": [
    {
     "traceback": [
      "\u001b[0;31m---------------------------------------------------------------------------\u001b[0m",
      "\u001b[0;31mNameError\u001b[0m                                 Traceback (most recent call last)",
      "\u001b[0;32m<ipython-input-4-18f48d47eb4e>\u001b[0m in \u001b[0;36m<module>\u001b[0;34m\u001b[0m\n\u001b[0;32m----> 1\u001b[0;31m \u001b[0mdfs\u001b[0m \u001b[0;34m=\u001b[0m \u001b[0msum_weekday_df\u001b[0m\u001b[0;34m(\u001b[0m\u001b[0;34m[\u001b[0m\u001b[0mdfbyweekday_khohanoi\u001b[0m\u001b[0;34m,\u001b[0m \u001b[0mdfbyweekday_khodanang\u001b[0m\u001b[0;34m,\u001b[0m \u001b[0mdfbyweekday_khobinhduong\u001b[0m\u001b[0;34m]\u001b[0m\u001b[0;34m)\u001b[0m\u001b[0;34m\u001b[0m\u001b[0;34m\u001b[0m\u001b[0m\n\u001b[0m\u001b[1;32m      2\u001b[0m \u001b[0;34m\u001b[0m\u001b[0m\n",
      "\u001b[0;31mNameError\u001b[0m: name 'dfbyweekday_khohanoi' is not defined"
     ],
     "ename": "NameError",
     "evalue": "name 'dfbyweekday_khohanoi' is not defined",
     "output_type": "error"
    }
   ],
   "source": [
    "dfs = sum_weekday_df([dfbyweekday_khohanoi, dfbyweekday_khodanang, dfbyweekday_khobinhduong])"
   ]
  },
  {
   "cell_type": "code",
   "execution_count": null,
   "metadata": {
    "pycharm": {
     "is_executing": false
    }
   },
   "outputs": [],
   "source": [
    "#Number of salling product by weekday\n",
    "plot_line(dfs,\n",
    "         title='Sale by weekday',\n",
    "         xaxis='Weekday',\n",
    "         yaxis='Sale',\n",
    "         figsize=(20, 8))"
   ]
  },
  {
   "cell_type": "code",
   "execution_count": null,
   "metadata": {
    "pycharm": {
     "is_executing": false
    }
   },
   "outputs": [],
   "source": [
    "def prepare_df_weekly_boxplot(dfs):\n",
    "    dffs = []\n",
    "    for df in dfs:\n",
    "        dff = pd.DataFrame(df)\n",
    "        dff['weekday'] = dff.index.weekday_name\n",
    "        dffs.append(dff)\n",
    "    return dffs"
   ]
  },
  {
   "cell_type": "code",
   "execution_count": null,
   "metadata": {
    "pycharm": {
     "is_executing": false
    }
   },
   "outputs": [],
   "source": [
    "dfs = prepare_df_weekly_boxplot([dfbyday_khohanoi, dfbyday_khodanang, dfbyday_khobinhduong])\n",
    "\n",
    "plot_boxplot('weekday', 'quantity',\n",
    "            dfs,\n",
    "            title='Daily sale - with outlier',\n",
    "            order=['Monday', 'Tuesday', 'Wednesday', 'Thursday', 'Friday', 'Saturday', 'Sunday'],\n",
    "            figsize=(20, 16),\n",
    "            show_outlier=True,\n",
    "            vertical_orient=False)"
   ]
  },
  {
   "cell_type": "markdown",
   "metadata": {},
   "source": [
    "## Visualize data by week"
   ]
  },
  {
   "cell_type": "code",
   "execution_count": null,
   "metadata": {
    "pycharm": {
     "is_executing": false
    }
   },
   "outputs": [],
   "source": [
    "#Number of salling product by week\n",
    "plot_line([dfbyweek_khohanoi, dfbyweek_khodanang, dfbyweek_khobinhduong],\n",
    "         title='Sale by week',\n",
    "         xaxis='Week',\n",
    "         yaxis='Sale')"
   ]
  },
  {
   "cell_type": "code",
   "execution_count": null,
   "metadata": {
    "pycharm": {
     "is_executing": false
    }
   },
   "outputs": [],
   "source": [
    "dfs = [dfbyweek_khohanoi, dfbyweek_khodanang, dfbyweek_khobinhduong]\n",
    "\n",
    "plot_histogram(dfs,\n",
    "              title='Weekly sale histogram')"
   ]
  },
  {
   "cell_type": "code",
   "execution_count": null,
   "metadata": {
    "pycharm": {
     "is_executing": false
    }
   },
   "outputs": [],
   "source": [
    "dfs = [dfbyweek_khohanoi.diff().dropna(), dfbyweek_khodanang.diff().dropna(), dfbyweek_khobinhduong.diff().dropna()]\n",
    "\n",
    "plot_histogram(dfs,\n",
    "              title='Weekly sale difference histogram')"
   ]
  },
  {
   "cell_type": "markdown",
   "metadata": {},
   "source": [
    "## Visualize data by day"
   ]
  },
  {
   "cell_type": "code",
   "execution_count": null,
   "metadata": {
    "pycharm": {
     "is_executing": false
    }
   },
   "outputs": [],
   "source": [
    "#Number of salling product by day\n",
    "plot_line([dfbyday_khohanoi, dfbyday_khodanang, dfbyday_khobinhduong],\n",
    "         title='Sale by week',\n",
    "         xaxis='Week',\n",
    "         yaxis='Sale',\n",
    "         figsize=(20, 4))"
   ]
  },
  {
   "cell_type": "code",
   "execution_count": null,
   "metadata": {
    "pycharm": {
     "is_executing": false
    }
   },
   "outputs": [],
   "source": [
    "plot_line_with_subplot([dfbyday_khohanoi, dfbyday_khodanang, dfbyday_khobinhduong],\n",
    "         title='Sale by week')\n"
   ]
  },
  {
   "cell_type": "code",
   "execution_count": null,
   "metadata": {
    "pycharm": {
     "is_executing": false
    }
   },
   "outputs": [],
   "source": [
    "dfs = [dfbyday_khohanoi, dfbyday_khodanang, dfbyday_khobinhduong]\n",
    "\n",
    "plot_histogram(dfs,\n",
    "              title='Daily sale histogram')"
   ]
  },
  {
   "cell_type": "code",
   "execution_count": 5,
   "metadata": {
    "pycharm": {
     "is_executing": false
    }
   },
   "outputs": [
    {
     "traceback": [
      "\u001b[0;31m---------------------------------------------------------------------------\u001b[0m",
      "\u001b[0;31mNameError\u001b[0m                                 Traceback (most recent call last)",
      "\u001b[0;32m<ipython-input-5-50c5bb301da7>\u001b[0m in \u001b[0;36m<module>\u001b[0;34m\u001b[0m\n\u001b[0;32m----> 1\u001b[0;31m \u001b[0mdfs\u001b[0m \u001b[0;34m=\u001b[0m \u001b[0;34m[\u001b[0m\u001b[0mdfbyday_khohanoi\u001b[0m\u001b[0;34m.\u001b[0m\u001b[0mdiff\u001b[0m\u001b[0;34m(\u001b[0m\u001b[0;34m)\u001b[0m\u001b[0;34m.\u001b[0m\u001b[0mdropna\u001b[0m\u001b[0;34m(\u001b[0m\u001b[0;34m)\u001b[0m\u001b[0;34m,\u001b[0m \u001b[0mdfbyday_khodanang\u001b[0m\u001b[0;34m.\u001b[0m\u001b[0mdiff\u001b[0m\u001b[0;34m(\u001b[0m\u001b[0;34m)\u001b[0m\u001b[0;34m.\u001b[0m\u001b[0mdropna\u001b[0m\u001b[0;34m(\u001b[0m\u001b[0;34m)\u001b[0m\u001b[0;34m,\u001b[0m \u001b[0mdfbyday_khobinhduong\u001b[0m\u001b[0;34m.\u001b[0m\u001b[0mdiff\u001b[0m\u001b[0;34m(\u001b[0m\u001b[0;34m)\u001b[0m\u001b[0;34m.\u001b[0m\u001b[0mdropna\u001b[0m\u001b[0;34m(\u001b[0m\u001b[0;34m)\u001b[0m\u001b[0;34m]\u001b[0m\u001b[0;34m\u001b[0m\u001b[0;34m\u001b[0m\u001b[0m\n\u001b[0m\u001b[1;32m      2\u001b[0m \u001b[0;34m\u001b[0m\u001b[0m\n\u001b[1;32m      3\u001b[0m plot_histogram(dfs,\n\u001b[1;32m      4\u001b[0m               title='Daily sale difference histogram')\n\u001b[1;32m      5\u001b[0m \u001b[0;34m\u001b[0m\u001b[0m\n",
      "\u001b[0;31mNameError\u001b[0m: name 'dfbyday_khohanoi' is not defined"
     ],
     "ename": "NameError",
     "evalue": "name 'dfbyday_khohanoi' is not defined",
     "output_type": "error"
    }
   ],
   "source": [
    "dfs = [dfbyday_khohanoi.diff().dropna(), dfbyday_khodanang.diff().dropna(), dfbyday_khobinhduong.diff().dropna()]\n",
    "\n",
    "plot_histogram(dfs,\n",
    "              title='Daily sale difference histogram')"
   ]
  },
  {
   "cell_type": "markdown",
   "metadata": {},
   "source": [
    "## Boxplot for day in month"
   ]
  },
  {
   "cell_type": "code",
   "execution_count": null,
   "metadata": {
    "pycharm": {
     "is_executing": false
    }
   },
   "outputs": [],
   "source": [
    "def prepare_df_daily_boxplot(dfs):\n",
    "    dffs = []\n",
    "    for df in dfs:\n",
    "        dff = pd.DataFrame(df)\n",
    "        dff['day'] = dff.index.day\n",
    "        dffs.append(dff)\n",
    "    return dffs"
   ]
  },
  {
   "cell_type": "code",
   "execution_count": null,
   "metadata": {
    "pycharm": {
     "is_executing": false
    }
   },
   "outputs": [],
   "source": [
    "dfs = prepare_df_daily_boxplot([dfbyday_khohanoi, dfbyday_khodanang, dfbyday_khobinhduong])\n",
    "plot_boxplot('day', 'quantity',\n",
    "            dfs,\n",
    "            title='Daily',\n",
    "            figsize=(20, 20),\n",
    "            show_outlier=False)"
   ]
  },
  {
   "cell_type": "markdown",
   "metadata": {},
   "source": [
    "## Visualize data by month"
   ]
  },
  {
   "cell_type": "code",
   "execution_count": null,
   "metadata": {
    "pycharm": {
     "is_executing": false
    }
   },
   "outputs": [],
   "source": [
    "#Number of selling product by month\n",
    "sns.set(rc={'figure.figsize':(20, 6)})\n",
    "\n",
    "dfbymonth_khodanang.plot(linewidth=2, color='green', style='-')\n",
    "dfbymonth_khohanoi.plot(linewidth=2, color='blue', style='-')\n",
    "dfbymonth_khobinhduong.plot(linewidth=2, color='purple', style='-')\n",
    "plt.legend(['Đà Nẵng','Hà Nội','Bình Dương'])\n",
    "plt.ylabel('Số sản phẩm xuất bán')\n",
    "plt.xlabel('Date by month')"
   ]
  },
  {
   "cell_type": "markdown",
   "metadata": {},
   "source": [
    "# trend, sesonal, residual"
   ]
  },
  {
   "cell_type": "code",
   "execution_count": null,
   "metadata": {
    "pycharm": {
     "is_executing": false
    }
   },
   "outputs": [],
   "source": [
    "from pylab import rcParams\n",
    "rcParams['figure.figsize'] = 20,6\n",
    "import statsmodels.api as sm"
   ]
  },
  {
   "cell_type": "code",
   "execution_count": null,
   "metadata": {
    "scrolled": true,
    "pycharm": {
     "is_executing": false
    }
   },
   "outputs": [],
   "source": [
    "#Kho Hà Nội\n",
    "decomposition_bydayHN = sm.tsa.seasonal_decompose(dfbyday_khohanoi, model='additive')\n",
    "fig = decomposition_bydayHN.plot()\n",
    "plt.show()"
   ]
  },
  {
   "cell_type": "code",
   "execution_count": null,
   "metadata": {
    "pycharm": {
     "is_executing": false
    }
   },
   "outputs": [],
   "source": [
    "#Kho Đà Nẵng\n",
    "decomposition_bydayDN = sm.tsa.seasonal_decompose(dfbyday_khodanang, model='additive')\n",
    "fig = decomposition_bydayDN.plot()\n",
    "plt.show()"
   ]
  },
  {
   "cell_type": "code",
   "execution_count": null,
   "metadata": {
    "pycharm": {
     "is_executing": false
    }
   },
   "outputs": [],
   "source": [
    "#Kho Bình Dương\n",
    "decomposition_bydayBD = sm.tsa.seasonal_decompose(dfbyday_khobinhduong, model='additive')\n",
    "fig = decomposition_bydayBD.plot()\n",
    "plt.show()"
   ]
  },
  {
   "cell_type": "markdown",
   "metadata": {},
   "source": [
    "# Dickey - Fuller test"
   ]
  },
  {
   "cell_type": "code",
   "execution_count": null,
   "metadata": {
    "pycharm": {
     "is_executing": false
    }
   },
   "outputs": [],
   "source": [
    "from statsmodels.tsa.stattools import adfuller \n",
    "\n",
    "\n",
    "def ADFtest(df, warehouse):\n",
    "    print('Result for ADF test {}:'.format(warehouse))\n",
    "    dftest = adfuller(df, autolag = 'AIC')\n",
    "\n",
    "    dfoutput = pd.Series(dftest[0:4], index = ['Test Statistic', 'p-value', 'Number of lag used', 'Number of observation used'])\n",
    "    for key, value in dftest[4].items():\n",
    "        dfoutput['Critical value (%s)'%key] = value\n",
    "        \n",
    "    print(dfoutput)"
   ]
  },
  {
   "cell_type": "code",
   "execution_count": null,
   "metadata": {
    "pycharm": {
     "is_executing": false
    }
   },
   "outputs": [],
   "source": [
    "ADFtest(dfbyday_khohanoi, 'Kho Hanoi')\n",
    "ADFtest(dfbyday_khodanang, 'Kho Danang')\n",
    "ADFtest(dfbyday_khobinhduong, 'Kho Binhduong')\n"
   ]
  },
  {
   "cell_type": "markdown",
   "metadata": {},
   "source": [
    "- Kho Hà Nội is non-stationary \n",
    "- Kho Đà Nẵng is non-stationary \n",
    "- Kho Bình Dương is non-stationary "
   ]
  },
  {
   "cell_type": "code",
   "execution_count": null,
   "metadata": {
    "pycharm": {
     "is_executing": false
    }
   },
   "outputs": [],
   "source": [
    "ADFtest(dfbyday_khohanoi.diff().dropna(), 'Kho Hanoi')\n",
    "ADFtest(dfbyday_khodanang.diff().dropna(), 'Kho Danang')\n",
    "ADFtest(dfbyday_khobinhduong.diff().dropna(), 'Kho Binhduong')\n"
   ]
  },
  {
   "cell_type": "markdown",
   "metadata": {},
   "source": [
    "# ACF, PACF kho Hà Nội"
   ]
  },
  {
   "cell_type": "code",
   "execution_count": null,
   "metadata": {
    "pycharm": {
     "is_executing": false
    }
   },
   "outputs": [],
   "source": [
    "import numpy as np"
   ]
  },
  {
   "cell_type": "code",
   "execution_count": null,
   "metadata": {
    "pycharm": {
     "is_executing": false
    }
   },
   "outputs": [],
   "source": [
    "from statsmodels.tsa.stattools import acf, pacf \n",
    "    \n",
    "lag_acf = acf(dfbyday_khohanoi, nlags = 20)\n",
    "lag_pacf = pacf(dfbyday_khohanoi, nlags = 20, method = 'ols')\n",
    "\n",
    "#plot ACF: \n",
    "plt.subplot(121)\n",
    "plt.plot(lag_acf)\n",
    "plt.axhline(y=0, linestyle = '--', color = 'blue')\n",
    "plt.axhline(y= -1.96/np.sqrt(len(dfbyday_khohanoi)), linestyle = '--', color = 'blue')\n",
    "plt.axhline(y= 1.96/np.sqrt(len(dfbyday_khohanoi)), linestyle = '--', color = 'blue')\n",
    "plt.title('Autocorrelation Function')\n",
    "\n",
    "#plot PACF:\n",
    "plt.subplot(122)\n",
    "plt.plot(lag_pacf)\n",
    "plt.axhline(y= 0, linestyle = '--', color = 'blue')\n",
    "plt.axhline(y= -1.96/np.sqrt(len(dfbyday_khohanoi)), linestyle = '--', color = 'blue')\n",
    "plt.axhline(y= 1.96/np.sqrt(len(dfbyday_khohanoi)), linestyle = '--', color = 'blue')\n",
    "plt.title('Partial Autocorrelation Function')\n",
    "\n",
    "plt.tight_layout()\n",
    "\n"
   ]
  },
  {
   "cell_type": "code",
   "execution_count": null,
   "metadata": {
    "pycharm": {
     "is_executing": false
    }
   },
   "outputs": [],
   "source": [
    "from matplotlib import pyplot\n",
    "from statsmodels.graphics.tsaplots import plot_pacf\n",
    "from statsmodels.graphics.tsaplots import plot_acf\n",
    "plot_pacf(dfbyday_khohanoi, lags=30)\n",
    "pyplot.show()\n",
    "plot_acf(dfbyday_khohanoi, lags=30)\n",
    "pyplot.show()"
   ]
  },
  {
   "cell_type": "markdown",
   "metadata": {},
   "source": [
    "# Build and validate model kho Hà Nội"
   ]
  },
  {
   "cell_type": "code",
   "execution_count": null,
   "metadata": {
    "pycharm": {
     "is_executing": false
    }
   },
   "outputs": [],
   "source": [
    "sns.set(rc={'figure.figsize':(20, 8)})\n",
    "from statsmodels.tsa.arima_model import ARIMA\n",
    "model_HN= ARIMA(dfbyday_khohanoi, order = (3,0,7))\n",
    "model_fit_HN = model_HN.fit(disp = False)\n",
    "plt.plot(dfbyday_khohanoi)\n",
    "plt.plot(model_fit_HN.fittedvalues, color = 'red')\n",
    "plt.title('RSS: %.4f'% sum((model_fit_HN.fittedvalues-dfbyday_khohanoi )**2))"
   ]
  },
  {
   "cell_type": "markdown",
   "metadata": {},
   "source": [
    "# Predict sale for Kho Hà Nội"
   ]
  },
  {
   "cell_type": "code",
   "execution_count": null,
   "metadata": {
    "pycharm": {
     "is_executing": false
    }
   },
   "outputs": [],
   "source": [
    "model_fit_HN.plot_predict(1,len(dfbyday_khohanoi)+14)\n",
    "model_fit_HN.forecast(steps = 14)"
   ]
  },
  {
   "cell_type": "markdown",
   "metadata": {},
   "source": [
    "# ACF, PACF kho Đà Nẵng"
   ]
  },
  {
   "cell_type": "code",
   "execution_count": null,
   "metadata": {
    "pycharm": {
     "is_executing": false
    }
   },
   "outputs": [],
   "source": [
    "from matplotlib import pyplot\n",
    "from statsmodels.graphics.tsaplots import plot_pacf\n",
    "from statsmodels.graphics.tsaplots import plot_acf\n",
    "plot_pacf(dfbyday_khodanang, lags=20)\n",
    "pyplot.show()\n",
    "plot_acf(dfbyday_khodanang, lags=20)\n",
    "pyplot.show()"
   ]
  },
  {
   "cell_type": "markdown",
   "metadata": {},
   "source": [
    "# Build and validate model kho Đà Nẵng"
   ]
  },
  {
   "cell_type": "code",
   "execution_count": null,
   "metadata": {
    "pycharm": {
     "is_executing": false
    }
   },
   "outputs": [],
   "source": [
    "sns.set(rc={'figure.figsize':(20, 8)})\n",
    "from statsmodels.tsa.arima_model import ARIMA\n",
    "model_DN= ARIMA(dfbyday_khodanang, order = (2,0,3))\n",
    "model_fit_DN = model_DN.fit(disp =False)\n",
    "plt.plot(dfbyday_khodanang)\n",
    "plt.plot(model_fit_DN.fittedvalues, color = 'red')\n",
    "plt.title('RSS: %.4f'% sum((model_fit_DN.fittedvalues-dfbyday_khodanang )**2))"
   ]
  },
  {
   "cell_type": "markdown",
   "metadata": {},
   "source": [
    "# Prophet"
   ]
  },
  {
   "cell_type": "code",
   "execution_count": null,
   "metadata": {
    "pycharm": {
     "is_executing": false
    }
   },
   "outputs": [],
   "source": [
    "from fbprophet import Prophet\n",
    "def plot_forecast_component(df, period=0):\n",
    "    dff = pd.DataFrame(df).reset_index().rename(columns={'created_at': 'ds', 'quantity': 'y'})\n",
    "    prophet = Prophet()\n",
    "    prophet.fit(dff)\n",
    "    future = prophet.make_future_dataframe(periods=period)\n",
    "    forecast = prophet.predict(future)\n",
    "    pd.plotting.register_matplotlib_converters()\n",
    "    \n",
    "#     fig, axes = plt.subplots(2, 1, figsize=(20, 20), dpi=80)\n",
    "    prophet.plot(forecast)\n",
    "    prophet.plot_components(forecast)\n",
    "    # Set Title\n",
    "#     axes[0].set_title('Forecast', fontsize=18)\n",
    "#     axes[1].set_title('Forecast component', fontsize=18)\n",
    "    plt.show()\n",
    "#     fig1 = prophet.plot(forecast)\n",
    "#     forecast[['ds', 'yhat', 'yhat_lower', 'yhat_upper']].tail()"
   ]
  },
  {
   "cell_type": "code",
   "execution_count": null,
   "metadata": {
    "pycharm": {
     "is_executing": false
    }
   },
   "outputs": [],
   "source": [
    "plot_forecast_component(dfbyday_khohanoi, period=90)"
   ]
  },
  {
   "cell_type": "code",
   "execution_count": null,
   "metadata": {
    "pycharm": {
     "is_executing": false
    }
   },
   "outputs": [],
   "source": [
    "plot_forecast_component(dfbyday_khodanang, period=90)"
   ]
  },
  {
   "cell_type": "code",
   "execution_count": null,
   "metadata": {
    "pycharm": {
     "is_executing": false
    }
   },
   "outputs": [],
   "source": [
    "plot_forecast_component(dfbyday_khobinhduong, period=90)"
   ]
  },
  {
   "cell_type": "code",
   "execution_count": null,
   "metadata": {
    "pycharm": {
     "is_executing": false
    }
   },
   "outputs": [],
   "source": [
    "from pandas.plotting import lag_plot\n",
    "lag_plot(dfbyday_khohanoi)"
   ]
  },
  {
   "cell_type": "markdown",
   "metadata": {},
   "source": [
    "# Playground for testing"
   ]
  },
  {
   "cell_type": "code",
   "execution_count": null,
   "metadata": {
    "pycharm": {
     "is_executing": false
    }
   },
   "outputs": [],
   "source": [
    "import statsmodels.tsa.api as smt\n",
    "import scipy.stats as scs\n",
    "import statsmodels.api as sm\n",
    "\n",
    "def tsplot(y, lags=None, figsize=(10, 8), style='bmh',title=''):\n",
    "    if not isinstance(y, pd.Series):\n",
    "        y = pd.Series(y)\n",
    "    with plt.style.context(style):    \n",
    "        fig = plt.figure(figsize=figsize)\n",
    "        #mpl.rcParams['font.family'] = 'Ubuntu Mono'\n",
    "        layout = (3, 2)\n",
    "        ts_ax = plt.subplot2grid(layout, (0, 0), colspan=2)\n",
    "        acf_ax = plt.subplot2grid(layout, (1, 0))\n",
    "        pacf_ax = plt.subplot2grid(layout, (1, 1))\n",
    "        qq_ax = plt.subplot2grid(layout, (2, 0))\n",
    "        pp_ax = plt.subplot2grid(layout, (2, 1))\n",
    "        \n",
    "        y.plot(ax=ts_ax)\n",
    "        ts_ax.set_title(title)\n",
    "        smt.graphics.plot_acf(y, lags=lags, ax=acf_ax, alpha=0.5)\n",
    "        smt.graphics.plot_pacf(y, lags=lags, ax=pacf_ax, alpha=0.5)\n",
    "        sm.qqplot(y, line='s', ax=qq_ax)\n",
    "        qq_ax.set_title('QQ Plot')        \n",
    "        scs.probplot(y, sparams=(y.mean(), y.std()), plot=pp_ax)\n",
    "\n",
    "        plt.tight_layout()\n",
    "    return "
   ]
  },
  {
   "cell_type": "code",
   "execution_count": null,
   "metadata": {
    "pycharm": {
     "is_executing": false
    }
   },
   "outputs": [],
   "source": [
    "tsplot(dfbyday_khohanoi, figsize=(20, 16))"
   ]
  },
  {
   "cell_type": "code",
   "execution_count": null,
   "metadata": {
    "pycharm": {
     "is_executing": false
    }
   },
   "outputs": [],
   "source": [
    "from statsmodels.nonparametric.smoothers_lowess import lowess\n",
    "plt.rcParams.update({'xtick.bottom' : False, 'axes.titlepad':5})\n",
    "\n",
    "# 1. Moving Average\n",
    "df_ma = dfbyday_khohanoi.rolling(7, center=True, closed='both').mean()\n",
    "\n",
    "# 2. Loess Smoothing (5% and 15%)\n",
    "df_loess_5 = pd.DataFrame(lowess(dfbyday_khohanoi, np.arange(len(dfbyday_khohanoi)), frac=0.05)[:, 1], index=dfbyday_khohanoi.index, columns=['value'])\n",
    "df_loess_15 = pd.DataFrame(lowess(dfbyday_khohanoi, np.arange(len(dfbyday_khohanoi)), frac=0.15)[:, 1], index=dfbyday_khohanoi.index, columns=['value'])\n",
    "\n",
    "# Plot\n",
    "fig, axes = plt.subplots(4,1, figsize=(7, 7), sharex=True, dpi=120)\n",
    "dfbyday_khohanoi.plot(ax=axes[0], color='k', title='Original Series')\n",
    "df_loess_5['value'].plot(ax=axes[1], title='Loess Smoothed 5%')\n",
    "df_loess_15['value'].plot(ax=axes[2], title='Loess Smoothed 15%')\n",
    "df_ma.plot(ax=axes[3], title='Moving Average (3)')\n",
    "fig.suptitle('How to Smoothen a Time Series', y=0.95, fontsize=14)\n",
    "plt.show()"
   ]
  },
  {
   "cell_type": "code",
   "execution_count": null,
   "metadata": {
    "pycharm": {
     "is_executing": false
    }
   },
   "outputs": [],
   "source": []
  },
  {
   "cell_type": "code",
   "execution_count": null,
   "metadata": {
    "pycharm": {
     "is_executing": false
    }
   },
   "outputs": [],
   "source": []
  },
  {
   "cell_type": "code",
   "execution_count": null,
   "metadata": {
    "pycharm": {
     "is_executing": false
    }
   },
   "outputs": [],
   "source": []
  },
  {
   "cell_type": "code",
   "execution_count": null,
   "metadata": {
    "pycharm": {
     "is_executing": false
    }
   },
   "outputs": [],
   "source": []
  },
  {
   "cell_type": "code",
   "execution_count": null,
   "metadata": {
    "pycharm": {
     "is_executing": false
    }
   },
   "outputs": [],
   "source": []
  }
 ],
 "metadata": {
  "kernelspec": {
   "display_name": "Python 3",
   "language": "python",
   "name": "python3"
  },
  "language_info": {
   "codemirror_mode": {
    "name": "ipython",
    "version": 3
   },
   "file_extension": ".py",
   "mimetype": "text/x-python",
   "name": "python",
   "nbconvert_exporter": "python",
   "pygments_lexer": "ipython3",
   "version": "3.7.3"
  }
 },
 "nbformat": 4,
 "nbformat_minor": 4
}