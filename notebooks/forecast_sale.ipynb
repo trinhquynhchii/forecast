{
 "cells": [
  {
   "cell_type": "code",
   "execution_count": 1,
   "metadata": {
    "pycharm": {
     "is_executing": false
    }
   },
   "outputs": [],
   "source": [
    "import numpy as np\n",
    "import pandas as pd\n",
    "import math\n",
    "import os\n",
    "import sys\n",
    "\n",
    "\n",
    "nb_dir = os.path.split(os.getcwd())[0]\n",
    "if nb_dir not in sys.path:\n",
    "    sys.path.append(nb_dir)"
   ]
  },
  {
   "cell_type": "code",
   "execution_count": 2,
   "metadata": {
    "pycharm": {
     "is_executing": false
    }
   },
   "outputs": [],
   "source": [
    "from time_series.data_manager import DataManager\n",
    "from time_series.models.AutoArima import AutoARIMA\n"
   ]
  },
  {
   "cell_type": "code",
   "execution_count": 3,
   "metadata": {
    "pycharm": {
     "is_executing": false
    }
   },
   "outputs": [],
   "source": [
    "%matplotlib inline\n",
    "import matplotlib.pyplot as plt\n",
    "import seaborn as sns"
   ]
  },
  {
   "cell_type": "markdown",
   "metadata": {},
   "source": [
    "# Get data from transation fact"
   ]
  },
  {
   "cell_type": "code",
   "execution_count": 4,
   "metadata": {
    "pycharm": {
     "is_executing": false
    }
   },
   "outputs": [],
   "source": [
    "data_manager = DataManager()"
   ]
  },
  {
   "cell_type": "code",
   "execution_count": 5,
   "metadata": {
    "pycharm": {
     "is_executing": false
    }
   },
   "outputs": [],
   "source": [
    "warehouses = ['Hà Nội', 'Bình Dương', 'Đà Nẵng']\n",
    "dfbyday, _, _, _ = data_manager.aggregate_data()\n",
    "for warehouse in warehouses:\n",
    "    dfbyday[warehouse] = data_manager.filter_outlier(warehouse)"
   ]
  },
  {
   "cell_type": "code",
   "execution_count": 6,
   "metadata": {
    "pycharm": {
     "is_executing": false
    }
   },
   "outputs": [
    {
     "data": {
      "text/plain": "               Hà Nội  Bình Dương  Đà Nẵng\ncreated_at                                \n2018-11-02   5.000000         7.0      1.0\n2018-11-03   2.000000         3.0      0.0\n2018-11-04   6.000000         2.0      1.0\n2018-11-05   4.333333         0.0      2.0\n2018-11-06  27.000000         9.0      1.0\n...               ...         ...      ...\n2019-11-01  32.000000         4.0     22.0\n2019-11-02  26.000000         8.0      6.0\n2019-11-03   9.000000        13.0      5.0\n2019-11-04  73.000000        16.0     12.0\n2019-11-05  35.000000        14.0      7.0\n\n[369 rows x 3 columns]",
      "text/html": "<div>\n<style scoped>\n    .dataframe tbody tr th:only-of-type {\n        vertical-align: middle;\n    }\n\n    .dataframe tbody tr th {\n        vertical-align: top;\n    }\n\n    .dataframe thead th {\n        text-align: right;\n    }\n</style>\n<table border=\"1\" class=\"dataframe\">\n  <thead>\n    <tr style=\"text-align: right;\">\n      <th></th>\n      <th>Hà Nội</th>\n      <th>Bình Dương</th>\n      <th>Đà Nẵng</th>\n    </tr>\n    <tr>\n      <th>created_at</th>\n      <th></th>\n      <th></th>\n      <th></th>\n    </tr>\n  </thead>\n  <tbody>\n    <tr>\n      <th>2018-11-02</th>\n      <td>5.000000</td>\n      <td>7.0</td>\n      <td>1.0</td>\n    </tr>\n    <tr>\n      <th>2018-11-03</th>\n      <td>2.000000</td>\n      <td>3.0</td>\n      <td>0.0</td>\n    </tr>\n    <tr>\n      <th>2018-11-04</th>\n      <td>6.000000</td>\n      <td>2.0</td>\n      <td>1.0</td>\n    </tr>\n    <tr>\n      <th>2018-11-05</th>\n      <td>4.333333</td>\n      <td>0.0</td>\n      <td>2.0</td>\n    </tr>\n    <tr>\n      <th>2018-11-06</th>\n      <td>27.000000</td>\n      <td>9.0</td>\n      <td>1.0</td>\n    </tr>\n    <tr>\n      <th>...</th>\n      <td>...</td>\n      <td>...</td>\n      <td>...</td>\n    </tr>\n    <tr>\n      <th>2019-11-01</th>\n      <td>32.000000</td>\n      <td>4.0</td>\n      <td>22.0</td>\n    </tr>\n    <tr>\n      <th>2019-11-02</th>\n      <td>26.000000</td>\n      <td>8.0</td>\n      <td>6.0</td>\n    </tr>\n    <tr>\n      <th>2019-11-03</th>\n      <td>9.000000</td>\n      <td>13.0</td>\n      <td>5.0</td>\n    </tr>\n    <tr>\n      <th>2019-11-04</th>\n      <td>73.000000</td>\n      <td>16.0</td>\n      <td>12.0</td>\n    </tr>\n    <tr>\n      <th>2019-11-05</th>\n      <td>35.000000</td>\n      <td>14.0</td>\n      <td>7.0</td>\n    </tr>\n  </tbody>\n</table>\n<p>369 rows × 3 columns</p>\n</div>"
     },
     "metadata": {},
     "output_type": "execute_result",
     "execution_count": 6
    }
   ],
   "source": [
    "dfbyday"
   ]
  },
  {
   "cell_type": "code",
   "execution_count": 7,
   "metadata": {
    "pycharm": {
     "is_executing": false
    }
   },
   "outputs": [
    {
     "name": "stdout",
     "text": [
      "Fit ARIMA for Hà Nội\n",
      "Fit ARIMA: order=(1, 0, 1) seasonal_order=(0, 0, 1, 7); AIC=3270.352, BIC=3289.906, Fit time=2.132 seconds\nFit ARIMA: order=(0, 0, 0) seasonal_order=(0, 0, 0, 7); AIC=3383.322, BIC=3391.144, Fit time=0.020 seconds\n",
      "Fit ARIMA: order=(1, 0, 0) seasonal_order=(1, 0, 0, 7); AIC=3279.183, BIC=3294.826, Fit time=1.626 seconds\n",
      "Fit ARIMA: order=(0, 0, 1) seasonal_order=(0, 0, 1, 7); AIC=3299.585, BIC=3315.228, Fit time=1.109 seconds\n",
      "Fit ARIMA: order=(1, 0, 1) seasonal_order=(1, 0, 1, 7); AIC=3224.238, BIC=3247.702, Fit time=4.465 seconds\n",
      "Fit ARIMA: order=(1, 0, 1) seasonal_order=(1, 0, 0, 7); AIC=3269.641, BIC=3289.195, Fit time=2.811 seconds\n",
      "Fit ARIMA: order=(1, 0, 1) seasonal_order=(1, 0, 2, 7); AIC=3217.518, BIC=3244.894, Fit time=7.551 seconds\n",
      "Fit ARIMA: order=(0, 0, 1) seasonal_order=(1, 0, 2, 7); AIC=3234.547, BIC=3258.012, Fit time=5.407 seconds\n",
      "Fit ARIMA: order=(2, 0, 1) seasonal_order=(1, 0, 2, 7); AIC=3228.481, BIC=3259.767, Fit time=7.258 seconds\n",
      "Fit ARIMA: order=(1, 0, 0) seasonal_order=(1, 0, 2, 7); AIC=3224.390, BIC=3247.855, Fit time=8.905 seconds\n",
      "Fit ARIMA: order=(1, 0, 2) seasonal_order=(1, 0, 2, 7); AIC=3215.218, BIC=3246.505, Fit time=12.105 seconds\n",
      "Fit ARIMA: order=(2, 0, 3) seasonal_order=(1, 0, 2, 7); AIC=3224.663, BIC=3263.771, Fit time=12.251 seconds\n",
      "Fit ARIMA: order=(1, 0, 2) seasonal_order=(0, 0, 2, 7); AIC=3252.982, BIC=3280.358, Fit time=9.241 seconds\n",
      "Fit ARIMA: order=(1, 0, 2) seasonal_order=(2, 0, 2, 7); AIC=3224.777, BIC=3259.974, Fit time=16.603 seconds\n",
      "Fit ARIMA: order=(1, 0, 2) seasonal_order=(1, 0, 1, 7); AIC=3241.723, BIC=3269.099, Fit time=6.065 seconds\n",
      "Fit ARIMA: order=(1, 0, 2) seasonal_order=(0, 0, 1, 7); AIC=3251.105, BIC=3274.570, Fit time=3.891 seconds\n",
      "Fit ARIMA: order=(0, 0, 2) seasonal_order=(1, 0, 2, 7); AIC=3229.017, BIC=3256.393, Fit time=11.800 seconds\n",
      "Fit ARIMA: order=(2, 0, 2) seasonal_order=(1, 0, 2, 7); AIC=3221.543, BIC=3256.740, Fit time=15.487 seconds\n",
      "Fit ARIMA: order=(1, 0, 3) seasonal_order=(1, 0, 2, 7); AIC=3230.837, BIC=3266.034, Fit time=15.309 seconds\nTotal fit time: 144.082 seconds\n                                 Statespace Model Results                                \n=========================================================================================\nDep. Variable:                                 y   No. Observations:                  369\nModel:             SARIMAX(1, 0, 2)x(1, 0, 2, 7)   Log Likelihood               -1599.609\nDate:                           Sun, 17 Nov 2019   AIC                           3215.218\nTime:                                   16:11:55   BIC                           3246.505\nSample:                                        0   HQIC                          3227.647\n                                           - 369                                         \nCovariance Type:                             opg                                         \n==============================================================================\n                 coef    std err          z      P>|z|      [0.025      0.975]\n------------------------------------------------------------------------------\nintercept      0.0529      0.071      0.747      0.455      -0.086       0.192\nar.L1          0.9338      0.046     20.368      0.000       0.844       1.024\nma.L1         -0.6263      0.058    -10.757      0.000      -0.740      -0.512\nma.L2         -0.1541      0.046     -3.323      0.001      -0.245      -0.063\nar.S.L7        0.9707      0.027     36.272      0.000       0.918       1.023\nma.S.L7       -1.0757      0.064    -16.827      0.000      -1.201      -0.950\nma.S.L14       0.1960      0.048      4.066      0.000       0.102       0.290\nsigma2       328.6264     10.393     31.621      0.000     308.257     348.996\n===================================================================================\nLjung-Box (Q):                       61.96   Jarque-Bera (JB):              3752.79\nProb(Q):                              0.01   Prob(JB):                         0.00\nHeteroskedasticity (H):               9.89   Skew:                             2.56\nProb(H) (two-sided):                  0.00   Kurtosis:                        17.76\n===================================================================================\n\nWarnings:\n[1] Covariance matrix calculated using the outer product of gradients (complex-step).\nFit ARIMA for Bình Dương\n",
      "Fit ARIMA: order=(1, 0, 1) seasonal_order=(0, 0, 1, 7); AIC=2444.119, BIC=2463.673, Fit time=3.294 seconds\nFit ARIMA: order=(0, 0, 0) seasonal_order=(0, 0, 0, 7); AIC=2648.372, BIC=2656.193, Fit time=0.044 seconds\n",
      "Fit ARIMA: order=(1, 0, 0) seasonal_order=(1, 0, 0, 7); AIC=2489.143, BIC=2504.786, Fit time=1.090 seconds\n",
      "Fit ARIMA: order=(0, 0, 1) seasonal_order=(0, 0, 1, 7); AIC=2531.162, BIC=2546.806, Fit time=1.525 seconds\n",
      "Fit ARIMA: order=(1, 0, 1) seasonal_order=(1, 0, 1, 7); AIC=2404.577, BIC=2428.041, Fit time=5.210 seconds\n",
      "Fit ARIMA: order=(1, 0, 1) seasonal_order=(1, 0, 0, 7); AIC=2441.432, BIC=2460.986, Fit time=3.947 seconds\n",
      "Fit ARIMA: order=(1, 0, 1) seasonal_order=(1, 0, 2, 7); AIC=2399.900, BIC=2427.276, Fit time=11.600 seconds\n",
      "Fit ARIMA: order=(0, 0, 1) seasonal_order=(1, 0, 2, 7); AIC=2413.272, BIC=2436.737, Fit time=9.034 seconds\n",
      "Fit ARIMA: order=(2, 0, 1) seasonal_order=(1, 0, 2, 7); AIC=2395.558, BIC=2426.844, Fit time=8.618 seconds\n",
      "Fit ARIMA: order=(2, 0, 0) seasonal_order=(1, 0, 2, 7); AIC=2405.770, BIC=2433.146, Fit time=5.674 seconds\n",
      "Fit ARIMA: order=(2, 0, 2) seasonal_order=(1, 0, 2, 7); AIC=2403.728, BIC=2438.925, Fit time=12.154 seconds\n",
      "Fit ARIMA: order=(1, 0, 0) seasonal_order=(1, 0, 2, 7); AIC=2406.781, BIC=2430.246, Fit time=5.315 seconds\n",
      "Fit ARIMA: order=(3, 0, 2) seasonal_order=(1, 0, 2, 7); AIC=2399.513, BIC=2438.621, Fit time=13.754 seconds\n",
      "Fit ARIMA: order=(2, 0, 1) seasonal_order=(0, 0, 2, 7); AIC=2419.704, BIC=2447.080, Fit time=5.908 seconds\n",
      "Fit ARIMA: order=(2, 0, 1) seasonal_order=(2, 0, 2, 7); AIC=2392.905, BIC=2428.102, Fit time=8.789 seconds\n",
      "Fit ARIMA: order=(2, 0, 1) seasonal_order=(2, 0, 1, 7); AIC=2392.908, BIC=2424.194, Fit time=11.708 seconds\n",
      "Fit ARIMA: order=(2, 0, 1) seasonal_order=(1, 0, 1, 7); AIC=2398.705, BIC=2426.081, Fit time=7.340 seconds\n",
      "Fit ARIMA: order=(1, 0, 1) seasonal_order=(2, 0, 2, 7); AIC=2401.388, BIC=2432.674, Fit time=10.935 seconds\n",
      "Fit ARIMA: order=(3, 0, 1) seasonal_order=(2, 0, 2, 7); AIC=2408.712, BIC=2447.820, Fit time=13.892 seconds\n",
      "Fit ARIMA: order=(2, 0, 0) seasonal_order=(2, 0, 2, 7); AIC=2404.975, BIC=2436.262, Fit time=7.311 seconds\n",
      "Fit ARIMA: order=(2, 0, 2) seasonal_order=(2, 0, 2, 7); AIC=2405.167, BIC=2444.275, Fit time=11.871 seconds\n",
      "Fit ARIMA: order=(1, 0, 0) seasonal_order=(2, 0, 2, 7); AIC=2406.519, BIC=2433.894, Fit time=6.867 seconds\n",
      "Fit ARIMA: order=(3, 0, 2) seasonal_order=(2, 0, 2, 7); AIC=2396.531, BIC=2439.550, Fit time=16.656 seconds\nTotal fit time: 182.641 seconds\n                                 Statespace Model Results                                \n=========================================================================================\nDep. Variable:                                 y   No. Observations:                  369\nModel:             SARIMAX(2, 0, 1)x(2, 0, 2, 7)   Log Likelihood               -1187.452\nDate:                           Sun, 17 Nov 2019   AIC                           2392.905\nTime:                                   16:14:57   BIC                           2428.102\nSample:                                        0   HQIC                          2406.887\n                                           - 369                                         \nCovariance Type:                             opg                                         \n==============================================================================\n                 coef    std err          z      P>|z|      [0.025      0.975]\n------------------------------------------------------------------------------\nintercept      0.0113      0.021      0.545      0.586      -0.029       0.052\nar.L1          1.1950      0.058     20.637      0.000       1.081       1.308\nar.L2         -0.2117      0.050     -4.220      0.000      -0.310      -0.113\nma.L1         -0.9235      0.040    -23.279      0.000      -1.001      -0.846\nar.S.L7        0.0026      0.089      0.030      0.976      -0.172       0.177\nar.S.L14       0.9220      0.096      9.588      0.000       0.734       1.110\nma.S.L7        0.0672      0.105      0.638      0.524      -0.139       0.274\nma.S.L14      -0.7303      0.116     -6.296      0.000      -0.958      -0.503\nsigma2        35.7543      1.815     19.697      0.000      32.197      39.312\n===================================================================================\nLjung-Box (Q):                       43.93   Jarque-Bera (JB):               393.50\nProb(Q):                              0.31   Prob(JB):                         0.00\nHeteroskedasticity (H):              13.99   Skew:                             1.04\nProb(H) (two-sided):                  0.00   Kurtosis:                         7.62\n===================================================================================\n\nWarnings:\n[1] Covariance matrix calculated using the outer product of gradients (complex-step).\nFit ARIMA for Đà Nẵng\n",
      "Fit ARIMA: order=(1, 1, 1) seasonal_order=(0, 0, 1, 7); AIC=2075.696, BIC=2095.237, Fit time=2.543 seconds\nFit ARIMA: order=(0, 1, 0) seasonal_order=(0, 0, 0, 7); AIC=2260.579, BIC=2268.395, Fit time=0.058 seconds\n",
      "Fit ARIMA: order=(1, 1, 0) seasonal_order=(1, 0, 0, 7); AIC=2186.644, BIC=2202.277, Fit time=0.793 seconds\n",
      "Fit ARIMA: order=(0, 1, 1) seasonal_order=(0, 0, 1, 7); AIC=2075.709, BIC=2091.341, Fit time=1.654 seconds\n",
      "Fit ARIMA: order=(1, 1, 1) seasonal_order=(1, 0, 1, 7); AIC=2075.757, BIC=2099.205, Fit time=3.668 seconds\n",
      "Fit ARIMA: order=(1, 1, 1) seasonal_order=(0, 0, 0, 7); AIC=2074.134, BIC=2089.766, Fit time=0.315 seconds\nFit ARIMA: order=(0, 1, 1) seasonal_order=(0, 0, 0, 7); AIC=2074.377, BIC=2086.101, Fit time=0.200 seconds\n",
      "Fit ARIMA: order=(2, 1, 1) seasonal_order=(0, 0, 0, 7); AIC=2075.646, BIC=2095.187, Fit time=0.270 seconds\nFit ARIMA: order=(1, 1, 0) seasonal_order=(0, 0, 0, 7); AIC=2185.096, BIC=2196.821, Fit time=0.092 seconds\n",
      "Fit ARIMA: order=(1, 1, 2) seasonal_order=(0, 0, 0, 7); AIC=2075.829, BIC=2095.370, Fit time=0.522 seconds\n",
      "Fit ARIMA: order=(2, 1, 2) seasonal_order=(0, 0, 0, 7); AIC=2077.313, BIC=2100.762, Fit time=0.817 seconds\n",
      "Fit ARIMA: order=(1, 1, 1) seasonal_order=(1, 0, 0, 7); AIC=2075.724, BIC=2095.265, Fit time=1.725 seconds\nTotal fit time: 12.785 seconds\n                           Statespace Model Results                           \n==============================================================================\nDep. Variable:                      y   No. Observations:                  369\nModel:               SARIMAX(1, 1, 1)   Log Likelihood               -1033.067\nDate:                Sun, 17 Nov 2019   AIC                           2074.134\nTime:                        16:15:10   BIC                           2089.766\nSample:                             0   HQIC                          2080.344\n                                - 369                                         \nCovariance Type:                  opg                                         \n==============================================================================\n                 coef    std err          z      P>|z|      [0.025      0.975]\n------------------------------------------------------------------------------\nintercept      0.0326      0.028      1.155      0.248      -0.023       0.088\nar.L1          0.0848      0.045      1.887      0.059      -0.003       0.173\nma.L1         -0.9110      0.017    -52.894      0.000      -0.945      -0.877\nsigma2        15.9942      0.595     26.882      0.000      14.828      17.160\n===================================================================================\nLjung-Box (Q):                       99.52   Jarque-Bera (JB):              2162.26\nProb(Q):                              0.00   Prob(JB):                         0.00\nHeteroskedasticity (H):              10.62   Skew:                             2.17\nProb(H) (two-sided):                  0.00   Kurtosis:                        14.05\n===================================================================================\n\nWarnings:\n[1] Covariance matrix calculated using the outer product of gradients (complex-step).\n"
     ],
     "output_type": "stream"
    }
   ],
   "source": [
    "models = {}\n",
    "for warehouse in dfbyday.columns:\n",
    "    print(f'Fit ARIMA for {warehouse}')\n",
    "    model = AutoARIMA(dfbyday, warehouse, None)\n",
    "    models[warehouse] = model"
   ]
  },
  {
   "cell_type": "code",
   "execution_count": 8,
   "metadata": {
    "pycharm": {
     "is_executing": false
    }
   },
   "outputs": [],
   "source": [
    "def get_index_of_forecast(df, period):\n",
    "    index_of_fc = []\n",
    "    for day in range(period):\n",
    "        time_shift = pd.to_timedelta(day + 1, unit='D')\n",
    "        index_of_fc.append(df.index[-1] + time_shift)\n",
    "    return index_of_fc\n",
    "    "
   ]
  },
  {
   "cell_type": "code",
   "execution_count": 9,
   "metadata": {
    "pycharm": {
     "is_executing": false
    }
   },
   "outputs": [],
   "source": [
    "forecast_dfs = {}"
   ]
  },
  {
   "cell_type": "code",
   "execution_count": 10,
   "metadata": {
    "pycharm": {
     "is_executing": false
    }
   },
   "outputs": [
    {
     "data": {
      "text/plain": "            Hà Nội  Bình Dương  Đà Nẵng\n2019-11-06    43.0        18.0     13.0",
      "text/html": "<div>\n<style scoped>\n    .dataframe tbody tr th:only-of-type {\n        vertical-align: middle;\n    }\n\n    .dataframe tbody tr th {\n        vertical-align: top;\n    }\n\n    .dataframe thead th {\n        text-align: right;\n    }\n</style>\n<table border=\"1\" class=\"dataframe\">\n  <thead>\n    <tr style=\"text-align: right;\">\n      <th></th>\n      <th>Hà Nội</th>\n      <th>Bình Dương</th>\n      <th>Đà Nẵng</th>\n    </tr>\n  </thead>\n  <tbody>\n    <tr>\n      <th>2019-11-06</th>\n      <td>43.0</td>\n      <td>18.0</td>\n      <td>13.0</td>\n    </tr>\n  </tbody>\n</table>\n</div>"
     },
     "metadata": {},
     "output_type": "execute_result",
     "execution_count": 10
    }
   ],
   "source": [
    "period = 1\n",
    "\n",
    "forecast = {}\n",
    "conf_int = {}\n",
    "\n",
    "\n",
    "for warehouse in warehouses:\n",
    "    forecast[warehouse], conf_int[warehouse] = models[warehouse].forecast(period)\n",
    "    \n",
    "forecast_dfs['1_day'] = pd.DataFrame(forecast, index=get_index_of_forecast(dfbyday, period))\n",
    "forecast_dfs['1_day']"
   ]
  },
  {
   "cell_type": "code",
   "execution_count": 11,
   "metadata": {
    "pycharm": {
     "is_executing": false
    }
   },
   "outputs": [
    {
     "data": {
      "text/plain": "            Hà Nội  Bình Dương  Đà Nẵng\n2019-11-06    43.0        18.0     13.0\n2019-11-07    56.0        20.0     14.0\n2019-11-08    47.0        22.0     14.0\n2019-11-09    30.0        11.0     14.0\n2019-11-10    29.0         9.0     14.0\n2019-11-11    50.0        23.0     14.0\n2019-11-12    49.0        20.0     14.0",
      "text/html": "<div>\n<style scoped>\n    .dataframe tbody tr th:only-of-type {\n        vertical-align: middle;\n    }\n\n    .dataframe tbody tr th {\n        vertical-align: top;\n    }\n\n    .dataframe thead th {\n        text-align: right;\n    }\n</style>\n<table border=\"1\" class=\"dataframe\">\n  <thead>\n    <tr style=\"text-align: right;\">\n      <th></th>\n      <th>Hà Nội</th>\n      <th>Bình Dương</th>\n      <th>Đà Nẵng</th>\n    </tr>\n  </thead>\n  <tbody>\n    <tr>\n      <th>2019-11-06</th>\n      <td>43.0</td>\n      <td>18.0</td>\n      <td>13.0</td>\n    </tr>\n    <tr>\n      <th>2019-11-07</th>\n      <td>56.0</td>\n      <td>20.0</td>\n      <td>14.0</td>\n    </tr>\n    <tr>\n      <th>2019-11-08</th>\n      <td>47.0</td>\n      <td>22.0</td>\n      <td>14.0</td>\n    </tr>\n    <tr>\n      <th>2019-11-09</th>\n      <td>30.0</td>\n      <td>11.0</td>\n      <td>14.0</td>\n    </tr>\n    <tr>\n      <th>2019-11-10</th>\n      <td>29.0</td>\n      <td>9.0</td>\n      <td>14.0</td>\n    </tr>\n    <tr>\n      <th>2019-11-11</th>\n      <td>50.0</td>\n      <td>23.0</td>\n      <td>14.0</td>\n    </tr>\n    <tr>\n      <th>2019-11-12</th>\n      <td>49.0</td>\n      <td>20.0</td>\n      <td>14.0</td>\n    </tr>\n  </tbody>\n</table>\n</div>"
     },
     "metadata": {},
     "output_type": "execute_result",
     "execution_count": 11
    }
   ],
   "source": [
    "period = 7\n",
    "\n",
    "forecast = {}\n",
    "conf_int = {}\n",
    "\n",
    "warehouses = list(models.keys())\n",
    "for warehouse in warehouses:\n",
    "    forecast[warehouse], conf_int[warehouse] = models[warehouse].forecast(period)\n",
    "    \n",
    "forecast_dfs['7_day'] = pd.DataFrame(forecast, index=get_index_of_forecast(dfbyday, period))\n",
    "forecast_dfs['7_day']"
   ]
  },
  {
   "cell_type": "code",
   "execution_count": 12,
   "metadata": {
    "pycharm": {
     "is_executing": false
    }
   },
   "outputs": [
    {
     "data": {
      "text/plain": "            Hà Nội  Bình Dương  Đà Nẵng\n2019-11-06    43.0        18.0     13.0\n2019-11-07    56.0        20.0     14.0\n2019-11-08    47.0        22.0     14.0\n2019-11-09    30.0        11.0     14.0\n2019-11-10    29.0         9.0     14.0\n2019-11-11    50.0        23.0     14.0\n2019-11-12    49.0        20.0     14.0\n2019-11-13    43.0        17.0     14.0\n2019-11-14    50.0        25.0     14.0\n2019-11-15    45.0        13.0     14.0\n2019-11-16    29.0        10.0     14.0\n2019-11-17    25.0        11.0     14.0\n2019-11-18    54.0        19.0     14.0\n2019-11-19    47.0        17.0     14.0",
      "text/html": "<div>\n<style scoped>\n    .dataframe tbody tr th:only-of-type {\n        vertical-align: middle;\n    }\n\n    .dataframe tbody tr th {\n        vertical-align: top;\n    }\n\n    .dataframe thead th {\n        text-align: right;\n    }\n</style>\n<table border=\"1\" class=\"dataframe\">\n  <thead>\n    <tr style=\"text-align: right;\">\n      <th></th>\n      <th>Hà Nội</th>\n      <th>Bình Dương</th>\n      <th>Đà Nẵng</th>\n    </tr>\n  </thead>\n  <tbody>\n    <tr>\n      <th>2019-11-06</th>\n      <td>43.0</td>\n      <td>18.0</td>\n      <td>13.0</td>\n    </tr>\n    <tr>\n      <th>2019-11-07</th>\n      <td>56.0</td>\n      <td>20.0</td>\n      <td>14.0</td>\n    </tr>\n    <tr>\n      <th>2019-11-08</th>\n      <td>47.0</td>\n      <td>22.0</td>\n      <td>14.0</td>\n    </tr>\n    <tr>\n      <th>2019-11-09</th>\n      <td>30.0</td>\n      <td>11.0</td>\n      <td>14.0</td>\n    </tr>\n    <tr>\n      <th>2019-11-10</th>\n      <td>29.0</td>\n      <td>9.0</td>\n      <td>14.0</td>\n    </tr>\n    <tr>\n      <th>2019-11-11</th>\n      <td>50.0</td>\n      <td>23.0</td>\n      <td>14.0</td>\n    </tr>\n    <tr>\n      <th>2019-11-12</th>\n      <td>49.0</td>\n      <td>20.0</td>\n      <td>14.0</td>\n    </tr>\n    <tr>\n      <th>2019-11-13</th>\n      <td>43.0</td>\n      <td>17.0</td>\n      <td>14.0</td>\n    </tr>\n    <tr>\n      <th>2019-11-14</th>\n      <td>50.0</td>\n      <td>25.0</td>\n      <td>14.0</td>\n    </tr>\n    <tr>\n      <th>2019-11-15</th>\n      <td>45.0</td>\n      <td>13.0</td>\n      <td>14.0</td>\n    </tr>\n    <tr>\n      <th>2019-11-16</th>\n      <td>29.0</td>\n      <td>10.0</td>\n      <td>14.0</td>\n    </tr>\n    <tr>\n      <th>2019-11-17</th>\n      <td>25.0</td>\n      <td>11.0</td>\n      <td>14.0</td>\n    </tr>\n    <tr>\n      <th>2019-11-18</th>\n      <td>54.0</td>\n      <td>19.0</td>\n      <td>14.0</td>\n    </tr>\n    <tr>\n      <th>2019-11-19</th>\n      <td>47.0</td>\n      <td>17.0</td>\n      <td>14.0</td>\n    </tr>\n  </tbody>\n</table>\n</div>"
     },
     "metadata": {},
     "output_type": "execute_result",
     "execution_count": 12
    }
   ],
   "source": [
    "period = 14\n",
    "\n",
    "forecast = {}\n",
    "conf_int = {}\n",
    "\n",
    "warehouses = list(models.keys())\n",
    "for warehouse in warehouses:\n",
    "    forecast[warehouse], conf_int[warehouse] = models[warehouse].forecast(period)\n",
    "    \n",
    "forecast_dfs['14_day'] = pd.DataFrame(forecast, index=get_index_of_forecast(dfbyday, period))\n",
    "forecast_dfs['14_day']"
   ]
  },
  {
   "cell_type": "code",
   "execution_count": 13,
   "metadata": {
    "pycharm": {
     "is_executing": false
    }
   },
   "outputs": [
    {
     "data": {
      "text/plain": "            Hà Nội  Bình Dương  Đà Nẵng\n2019-11-06    43.0        18.0     13.0\n2019-11-07    56.0        20.0     14.0\n2019-11-08    47.0        22.0     14.0\n2019-11-09    30.0        11.0     14.0\n2019-11-10    29.0         9.0     14.0\n2019-11-11    50.0        23.0     14.0\n2019-11-12    49.0        20.0     14.0\n2019-11-13    43.0        17.0     14.0\n2019-11-14    50.0        25.0     14.0\n2019-11-15    45.0        13.0     14.0\n2019-11-16    29.0        10.0     14.0\n2019-11-17    25.0        11.0     14.0\n2019-11-18    54.0        19.0     14.0\n2019-11-19    47.0        17.0     14.0\n2019-11-20    42.0        18.0     15.0\n2019-11-21    49.0        19.0     15.0\n2019-11-22    44.0        21.0     15.0\n2019-11-23    29.0        11.0     15.0\n2019-11-24    25.0         9.0     15.0\n2019-11-25    53.0        22.0     15.0\n2019-11-26    47.0        19.0     15.0\n2019-11-27    42.0        16.0     15.0\n2019-11-28    48.0        24.0     15.0\n2019-11-29    44.0        13.0     15.0\n2019-11-30    29.0        10.0     15.0\n2019-12-01    25.0        11.0     15.0\n2019-12-02    52.0        18.0     15.0\n2019-12-03    46.0        16.0     15.0\n2019-12-04    41.0        17.0     15.0\n2019-12-05    48.0        18.0     15.0",
      "text/html": "<div>\n<style scoped>\n    .dataframe tbody tr th:only-of-type {\n        vertical-align: middle;\n    }\n\n    .dataframe tbody tr th {\n        vertical-align: top;\n    }\n\n    .dataframe thead th {\n        text-align: right;\n    }\n</style>\n<table border=\"1\" class=\"dataframe\">\n  <thead>\n    <tr style=\"text-align: right;\">\n      <th></th>\n      <th>Hà Nội</th>\n      <th>Bình Dương</th>\n      <th>Đà Nẵng</th>\n    </tr>\n  </thead>\n  <tbody>\n    <tr>\n      <th>2019-11-06</th>\n      <td>43.0</td>\n      <td>18.0</td>\n      <td>13.0</td>\n    </tr>\n    <tr>\n      <th>2019-11-07</th>\n      <td>56.0</td>\n      <td>20.0</td>\n      <td>14.0</td>\n    </tr>\n    <tr>\n      <th>2019-11-08</th>\n      <td>47.0</td>\n      <td>22.0</td>\n      <td>14.0</td>\n    </tr>\n    <tr>\n      <th>2019-11-09</th>\n      <td>30.0</td>\n      <td>11.0</td>\n      <td>14.0</td>\n    </tr>\n    <tr>\n      <th>2019-11-10</th>\n      <td>29.0</td>\n      <td>9.0</td>\n      <td>14.0</td>\n    </tr>\n    <tr>\n      <th>2019-11-11</th>\n      <td>50.0</td>\n      <td>23.0</td>\n      <td>14.0</td>\n    </tr>\n    <tr>\n      <th>2019-11-12</th>\n      <td>49.0</td>\n      <td>20.0</td>\n      <td>14.0</td>\n    </tr>\n    <tr>\n      <th>2019-11-13</th>\n      <td>43.0</td>\n      <td>17.0</td>\n      <td>14.0</td>\n    </tr>\n    <tr>\n      <th>2019-11-14</th>\n      <td>50.0</td>\n      <td>25.0</td>\n      <td>14.0</td>\n    </tr>\n    <tr>\n      <th>2019-11-15</th>\n      <td>45.0</td>\n      <td>13.0</td>\n      <td>14.0</td>\n    </tr>\n    <tr>\n      <th>2019-11-16</th>\n      <td>29.0</td>\n      <td>10.0</td>\n      <td>14.0</td>\n    </tr>\n    <tr>\n      <th>2019-11-17</th>\n      <td>25.0</td>\n      <td>11.0</td>\n      <td>14.0</td>\n    </tr>\n    <tr>\n      <th>2019-11-18</th>\n      <td>54.0</td>\n      <td>19.0</td>\n      <td>14.0</td>\n    </tr>\n    <tr>\n      <th>2019-11-19</th>\n      <td>47.0</td>\n      <td>17.0</td>\n      <td>14.0</td>\n    </tr>\n    <tr>\n      <th>2019-11-20</th>\n      <td>42.0</td>\n      <td>18.0</td>\n      <td>15.0</td>\n    </tr>\n    <tr>\n      <th>2019-11-21</th>\n      <td>49.0</td>\n      <td>19.0</td>\n      <td>15.0</td>\n    </tr>\n    <tr>\n      <th>2019-11-22</th>\n      <td>44.0</td>\n      <td>21.0</td>\n      <td>15.0</td>\n    </tr>\n    <tr>\n      <th>2019-11-23</th>\n      <td>29.0</td>\n      <td>11.0</td>\n      <td>15.0</td>\n    </tr>\n    <tr>\n      <th>2019-11-24</th>\n      <td>25.0</td>\n      <td>9.0</td>\n      <td>15.0</td>\n    </tr>\n    <tr>\n      <th>2019-11-25</th>\n      <td>53.0</td>\n      <td>22.0</td>\n      <td>15.0</td>\n    </tr>\n    <tr>\n      <th>2019-11-26</th>\n      <td>47.0</td>\n      <td>19.0</td>\n      <td>15.0</td>\n    </tr>\n    <tr>\n      <th>2019-11-27</th>\n      <td>42.0</td>\n      <td>16.0</td>\n      <td>15.0</td>\n    </tr>\n    <tr>\n      <th>2019-11-28</th>\n      <td>48.0</td>\n      <td>24.0</td>\n      <td>15.0</td>\n    </tr>\n    <tr>\n      <th>2019-11-29</th>\n      <td>44.0</td>\n      <td>13.0</td>\n      <td>15.0</td>\n    </tr>\n    <tr>\n      <th>2019-11-30</th>\n      <td>29.0</td>\n      <td>10.0</td>\n      <td>15.0</td>\n    </tr>\n    <tr>\n      <th>2019-12-01</th>\n      <td>25.0</td>\n      <td>11.0</td>\n      <td>15.0</td>\n    </tr>\n    <tr>\n      <th>2019-12-02</th>\n      <td>52.0</td>\n      <td>18.0</td>\n      <td>15.0</td>\n    </tr>\n    <tr>\n      <th>2019-12-03</th>\n      <td>46.0</td>\n      <td>16.0</td>\n      <td>15.0</td>\n    </tr>\n    <tr>\n      <th>2019-12-04</th>\n      <td>41.0</td>\n      <td>17.0</td>\n      <td>15.0</td>\n    </tr>\n    <tr>\n      <th>2019-12-05</th>\n      <td>48.0</td>\n      <td>18.0</td>\n      <td>15.0</td>\n    </tr>\n  </tbody>\n</table>\n</div>"
     },
     "metadata": {},
     "output_type": "execute_result",
     "execution_count": 13
    }
   ],
   "source": [
    "period = 30\n",
    "\n",
    "forecast = {}\n",
    "conf_int = {}\n",
    "\n",
    "warehouses = list(models.keys())\n",
    "for warehouse in warehouses:\n",
    "    forecast[warehouse], conf_int[warehouse] = models[warehouse].forecast(period)\n",
    "    \n",
    "forecast_dfs['30_day'] = pd.DataFrame(forecast, index=get_index_of_forecast(dfbyday, period))\n",
    "forecast_dfs['30_day']"
   ]
  },
  {
   "cell_type": "code",
   "execution_count": 14,
   "metadata": {
    "pycharm": {
     "is_executing": false
    }
   },
   "outputs": [],
   "source": [
    "keys = list(forecast_dfs.keys())\n",
    "\n",
    "for key in keys:\n",
    "    df = forecast_dfs[key]\n",
    "    start_date = df.index.min().strftime('%Y%m%d')\n",
    "    end_date = df.index.max().strftime('%Y%m%d')\n",
    "\n",
    "    file_name = f'forecast_{key}.csv'\n",
    "    df.to_csv(f'../data/{file_name}')"
   ]
  }
 ],
 "metadata": {
  "kernelspec": {
   "display_name": "Python 3",
   "language": "python",
   "name": "python3"
  },
  "language_info": {
   "codemirror_mode": {
    "name": "ipython",
    "version": 3
   },
   "file_extension": ".py",
   "mimetype": "text/x-python",
   "name": "python",
   "nbconvert_exporter": "python",
   "pygments_lexer": "ipython3",
   "version": "3.7.3"
  }
 },
 "nbformat": 4,
 "nbformat_minor": 2
}