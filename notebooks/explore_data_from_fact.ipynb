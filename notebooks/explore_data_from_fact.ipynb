{
 "cells": [
  {
   "cell_type": "code",
   "execution_count": 1,
   "metadata": {
    "pycharm": {
     "is_executing": false
    }
   },
   "outputs": [],
   "source": [
    "import numpy as np\n",
    "import pandas as pd\n",
    "import math\n",
    "import os\n",
    "import sys\n",
    "\n",
    "\n",
    "nb_dir = os.path.split(os.getcwd())[0]\n",
    "if nb_dir not in sys.path:\n",
    "    sys.path.append(nb_dir)"
   ]
  },
  {
   "cell_type": "code",
   "execution_count": 2,
   "metadata": {
    "pycharm": {
     "is_executing": false
    }
   },
   "outputs": [
    {
     "traceback": [
      "\u001b[0;31m---------------------------------------------------------------------------\u001b[0m",
      "\u001b[0;31mModuleNotFoundError\u001b[0m                       Traceback (most recent call last)",
      "\u001b[0;32m<ipython-input-2-0a6dab733d4f>\u001b[0m in \u001b[0;36m<module>\u001b[0;34m\u001b[0m\n\u001b[0;32m----> 1\u001b[0;31m \u001b[0;32mfrom\u001b[0m \u001b[0mtime_series\u001b[0m\u001b[0;34m.\u001b[0m\u001b[0mhdfs_handle\u001b[0m \u001b[0;32mimport\u001b[0m \u001b[0mHDFSHandler\u001b[0m\u001b[0;34m\u001b[0m\u001b[0;34m\u001b[0m\u001b[0m\n\u001b[0m\u001b[1;32m      2\u001b[0m \u001b[0;34m\u001b[0m\u001b[0m\n",
      "\u001b[0;32m~/github/time-series/time_series/hdfs_handle.py\u001b[0m in \u001b[0;36m<module>\u001b[0;34m\u001b[0m\n\u001b[0;32m----> 1\u001b[0;31m \u001b[0;32mimport\u001b[0m \u001b[0mdatalabframework\u001b[0m \u001b[0;32mas\u001b[0m \u001b[0mdlf\u001b[0m\u001b[0;34m\u001b[0m\u001b[0;34m\u001b[0m\u001b[0m\n\u001b[0m\u001b[1;32m      2\u001b[0m \u001b[0;32mimport\u001b[0m \u001b[0mpyspark\u001b[0m\u001b[0;34m.\u001b[0m\u001b[0msql\u001b[0m\u001b[0;34m.\u001b[0m\u001b[0mfunctions\u001b[0m \u001b[0;32mas\u001b[0m \u001b[0mF\u001b[0m\u001b[0;34m\u001b[0m\u001b[0;34m\u001b[0m\u001b[0m\n\u001b[1;32m      3\u001b[0m \u001b[0;32mimport\u001b[0m \u001b[0mpyspark\u001b[0m\u001b[0;34m.\u001b[0m\u001b[0msql\u001b[0m\u001b[0;34m.\u001b[0m\u001b[0mtypes\u001b[0m \u001b[0;32mas\u001b[0m \u001b[0mT\u001b[0m\u001b[0;34m\u001b[0m\u001b[0;34m\u001b[0m\u001b[0m\n\u001b[1;32m      4\u001b[0m \u001b[0;34m\u001b[0m\u001b[0m\n\u001b[1;32m      5\u001b[0m \u001b[0;32mfrom\u001b[0m \u001b[0;34m.\u001b[0m\u001b[0mutils\u001b[0m \u001b[0;32mimport\u001b[0m \u001b[0msplit_to_region\u001b[0m\u001b[0;34m,\u001b[0m \u001b[0mpreprocess_data\u001b[0m\u001b[0;34m\u001b[0m\u001b[0;34m\u001b[0m\u001b[0m\n",
      "\u001b[0;31mModuleNotFoundError\u001b[0m: No module named 'datalabframework'"
     ],
     "ename": "ModuleNotFoundError",
     "evalue": "No module named 'datalabframework'",
     "output_type": "error"
    }
   ],
   "source": [
    "from time_series.hdfs_handle import HDFSHandler"
   ]
  },
  {
   "cell_type": "code",
   "execution_count": null,
   "metadata": {
    "pycharm": {
     "is_executing": false
    }
   },
   "outputs": [],
   "source": [
    "hdfs_handler = HDFSHandler()"
   ]
  },
  {
   "cell_type": "code",
   "execution_count": null,
   "metadata": {
    "pycharm": {
     "is_executing": false
    }
   },
   "outputs": [],
   "source": [
    "df = hdfs_handler.get_transaction_data()\n",
    "df"
   ]
  },
  {
   "cell_type": "code",
   "execution_count": null,
   "metadata": {
    "pycharm": {
     "is_executing": false
    }
   },
   "outputs": [],
   "source": [
    "df_sortdate = df.sort_values('created_at').set_index('created_at')\n",
    "df_sortdate"
   ]
  },
  {
   "cell_type": "code",
   "execution_count": null,
   "metadata": {
    "pycharm": {
     "is_executing": false
    }
   },
   "outputs": [],
   "source": [
    "df_sortdate['week'] = df_sortdate.index.week\n",
    "df_sortdate['month'] = df_sortdate.index.month\n",
    "df_sortdate['year'] = df_sortdate.index.year\n",
    "df_sortdate['weekday'] = df_sortdate.index.weekday_name"
   ]
  },
  {
   "cell_type": "markdown",
   "metadata": {},
   "source": [
    "# Visualize data"
   ]
  },
  {
   "cell_type": "code",
   "execution_count": null,
   "metadata": {
    "pycharm": {
     "is_executing": false
    }
   },
   "outputs": [],
   "source": [
    "def sort_by_warehouse(df, warehouse):\n",
    "    df_warehouse = df_sortdate[df_sortdate['Kho'] == warehouse]\n",
    "    warehouse_name = warehouse.replace('Kho ', '')\n",
    "    \n",
    "    dfbymonth = df_warehouse.resample('M')['quantity'].sum().rename(warehouse_name)\n",
    "    dfbyweek = df_warehouse.resample('W')['quantity'].sum().rename(warehouse_name)\n",
    "    dfbyday = df_warehouse.resample('D')['quantity'].sum().rename(warehouse_name)\n",
    "    \n",
    "    return df_warehouse, dfbymonth, dfbyweek, dfbyday\n",
    "\n",
    "def aggregate_data(df):\n",
    "    warehouse_list = df['Kho'].unique().tolist()\n",
    "    \n",
    "    df_hanoi, dfbymonth_hanoi, dfbyweek_hanoi, dfbyday_hanoi = sort_by_warehouse(df_sortdate, 'Kho Hà Nội')\n",
    "    df_danang, dfbymonth_danang, dfbyweek_danang, dfbyday_danang = sort_by_warehouse(df_sortdate, 'Kho Đà Nẵng')\n",
    "    df_binhduong, dfbymonth_binhduong, dfbyweek_binhduong, dfbyday_binhduong = sort_by_warehouse(df_sortdate, 'Kho Bình Dương')\n",
    "    \n",
    "    dfbyday = pd.concat([dfbyday_hanoi, dfbyday_danang, dfbyday_binhduong], axis=1, join='inner')\n",
    "    dfbyweek = pd.concat([dfbyweek_hanoi, dfbyweek_danang, dfbyweek_binhduong], axis=1, join='inner')\n",
    "    dfbymonth = pd.concat([dfbymonth_hanoi, dfbymonth_danang, dfbymonth_binhduong], axis=1, join='inner')\n",
    "    dfbyweekday = dfbyday.copy(deep=True)\n",
    "    dfbyweekday['weekday'] = dfbyweekday.index.weekday_name\n",
    "    \n",
    "    return dfbyday, dfbyweek, dfbymonth, dfbyweekday"
   ]
  },
  {
   "cell_type": "code",
   "execution_count": null,
   "metadata": {
    "pycharm": {
     "is_executing": false
    }
   },
   "outputs": [],
   "source": [
    "df_hanoi, dfbymonth_hanoi, dfbyweek_hanoi, dfbyday_hanoi = sort_by_warehouse(df_sortdate, 'Kho Hà Nội')\n",
    "df_danang, dfbymonth_danang, dfbyweek_danang, dfbyday_danang = sort_by_warehouse(df_sortdate, 'Kho Đà Nẵng')\n",
    "df_binhduong, dfbymonth_binhduong, dfbyweek_binhduong, dfbyday_binhduong = sort_by_warehouse(df_sortdate, 'Kho Bình Dương')"
   ]
  },
  {
   "cell_type": "code",
   "execution_count": null,
   "metadata": {
    "pycharm": {
     "is_executing": false
    }
   },
   "outputs": [],
   "source": [
    "dfbyday, dfbyweek, dfbymonth, dfbyweekday = aggregate_data(df_sortdate)"
   ]
  },
  {
   "cell_type": "code",
   "execution_count": null,
   "metadata": {
    "pycharm": {
     "is_executing": false
    }
   },
   "outputs": [],
   "source": [
    "dfbyday"
   ]
  },
  {
   "cell_type": "code",
   "execution_count": null,
   "metadata": {
    "pycharm": {
     "is_executing": false
    }
   },
   "outputs": [],
   "source": [
    "%matplotlib inline\n",
    "import matplotlib.pyplot as plt\n",
    "import seaborn as sns"
   ]
  },
  {
   "cell_type": "code",
   "execution_count": null,
   "metadata": {
    "pycharm": {
     "is_executing": false
    }
   },
   "outputs": [],
   "source": [
    "sns.set(rc={'figure.figsize': (20, 6)})\n",
    "\n",
    "dfbyday.plot()\n",
    "plt.title('Daily sale')"
   ]
  },
  {
   "cell_type": "code",
   "execution_count": null,
   "metadata": {
    "pycharm": {
     "is_executing": false
    }
   },
   "outputs": [],
   "source": [
    "sns.set(rc={'figure.figsize': (20, 6)})\n",
    "\n",
    "dfbyweek.plot()\n",
    "plt.title('Weekly sale')"
   ]
  },
  {
   "cell_type": "code",
   "execution_count": null,
   "metadata": {
    "pycharm": {
     "is_executing": false
    }
   },
   "outputs": [],
   "source": [
    "dfbyday.loc['2019-10':, :]"
   ]
  },
  {
   "cell_type": "code",
   "execution_count": null,
   "metadata": {
    "pycharm": {
     "is_executing": false
    }
   },
   "outputs": [],
   "source": [
    "def remove_outlier(df):\n",
    "    dff = df.copy(deep=True)\n",
    "    q25 = dff.quantile(0.25)\n",
    "    q75 = dff.quantile(0.75)\n",
    "    iqr = q75 - q25\n",
    "    upper_limit = q75 + 1.5 * iqr\n",
    "    \n",
    "    dff[dff > upper_limit] = np.nan\n",
    "    mean = dff.mean()\n",
    "    dff[dff.isna()] = mean\n",
    "    return dff"
   ]
  },
  {
   "cell_type": "code",
   "execution_count": null,
   "metadata": {
    "pycharm": {
     "is_executing": false
    }
   },
   "outputs": [],
   "source": [
    "dfbyday_remove_outlier = dfbyday.copy(deep=True)\n",
    "for warehouse in dfbyday.columns:\n",
    "    dfbyday_remove_outlier[warehouse] = remove_outlier(dfbyday[warehouse])"
   ]
  },
  {
   "cell_type": "code",
   "execution_count": null,
   "metadata": {
    "pycharm": {
     "is_executing": false
    }
   },
   "outputs": [],
   "source": [
    "from statsmodels.tsa.stattools import adfuller \n",
    "\n",
    "\n",
    "def ADFtest(df):\n",
    "    warehouse_list = df.columns\n",
    "    for warehouse in warehouse_list:\n",
    "        print('Result for ADF test {}:'.format(warehouse))\n",
    "        dftest = adfuller(df[warehouse], autolag = 'AIC')\n",
    "\n",
    "        dfoutput = pd.Series(dftest[0:4], index = ['Test Statistic', 'p-value', 'Number of lag used', 'Number of observation used'])\n",
    "        for key, value in dftest[4].items():\n",
    "            dfoutput['Critical value (%s)'%key] = value\n",
    "        \n",
    "        print(dfoutput)"
   ]
  },
  {
   "cell_type": "code",
   "execution_count": null,
   "metadata": {
    "pycharm": {
     "is_executing": false
    }
   },
   "outputs": [],
   "source": [
    "ADFtest(dfbyday)"
   ]
  },
  {
   "cell_type": "code",
   "execution_count": null,
   "metadata": {
    "pycharm": {
     "is_executing": false
    }
   },
   "outputs": [],
   "source": [
    "ADFtest(dfbyday_remove_outlier)"
   ]
  },
  {
   "cell_type": "code",
   "execution_count": null,
   "metadata": {
    "pycharm": {
     "is_executing": false
    }
   },
   "outputs": [],
   "source": [
    "ADFtest(dfbyday.diff().dropna())"
   ]
  },
  {
   "cell_type": "code",
   "execution_count": null,
   "metadata": {
    "pycharm": {
     "is_executing": false
    }
   },
   "outputs": [],
   "source": [
    "ADFtest(dfbyday.diff().dropna())"
   ]
  }
 ],
 "metadata": {
  "kernelspec": {
   "display_name": "Python 3",
   "language": "python",
   "name": "python3"
  },
  "language_info": {
   "codemirror_mode": {
    "name": "ipython",
    "version": 3
   },
   "file_extension": ".py",
   "mimetype": "text/x-python",
   "name": "python",
   "nbconvert_exporter": "python",
   "pygments_lexer": "ipython3",
   "version": "3.7.3"
  }
 },
 "nbformat": 4,
 "nbformat_minor": 2
}